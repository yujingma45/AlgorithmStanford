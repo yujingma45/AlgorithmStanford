{
 "cells": [
  {
   "cell_type": "markdown",
   "metadata": {},
   "source": [
    "# 2sum\n",
    "Your task is to compute the number of target values tt in the interval [-10000,10000] \n",
    "(inclusive) such that there are distinct numbers x,yx,y in the input file that satisfy x+y=tx+y=t. (NOTE: ensuring distinctness requires a one-line addition to the algorithm from lecture.)\n",
    "\n"
   ]
  },
  {
   "cell_type": "markdown",
   "metadata": {},
   "source": [
    "## my first solution\n",
    "### using binary search "
   ]
  },
  {
   "cell_type": "code",
   "execution_count": 18,
   "metadata": {},
   "outputs": [],
   "source": [
    "from collections import Counter"
   ]
  },
  {
   "cell_type": "code",
   "execution_count": 76,
   "metadata": {},
   "outputs": [
    {
     "name": "stdout",
     "output_type": "stream",
     "text": [
      "6 7\n",
      "[1, 2, 3, 4, 5, 6]\n"
     ]
    }
   ],
   "source": [
    "def binarySearch(data, val,bound = False):\n",
    "    lo, hi = 0, len(data) - 1\n",
    "    best_ind = lo\n",
    "    while lo <= hi:\n",
    "        mid = int(lo + (hi - lo) / 2)\n",
    "        if data[mid] < val:\n",
    "            lo = mid + 1\n",
    "        elif data[mid] > val:\n",
    "            hi = mid - 1\n",
    "        else:\n",
    "            best_ind = mid\n",
    "            break\n",
    "        # check if data[mid] is closer to val than data[best_ind] \n",
    "        if abs(data[mid] - val) < abs(data[best_ind] - val):\n",
    "            best_ind = mid\n",
    "    if bound == 'lower'and data[best_ind] < val:\n",
    "        best_ind = best_ind+1\n",
    "    return best_ind"
   ]
  },
  {
   "cell_type": "code",
   "execution_count": 19,
   "metadata": {},
   "outputs": [],
   "source": [
    "file = open(\"2sum.txt\")\n",
    "value = []\n",
    "for line in file:\n",
    "    value.append(int(line.strip()))"
   ]
  },
  {
   "cell_type": "code",
   "execution_count": 34,
   "metadata": {},
   "outputs": [],
   "source": [
    "uni_value = sorted(list(set(value)))"
   ]
  },
  {
   "cell_type": "code",
   "execution_count": 35,
   "metadata": {},
   "outputs": [],
   "source": [
    "n = len(uni_value)"
   ]
  },
  {
   "cell_type": "code",
   "execution_count": 100,
   "metadata": {},
   "outputs": [
    {
     "ename": "KeyboardInterrupt",
     "evalue": "",
     "output_type": "error",
     "traceback": [
      "\u001b[0;31m---------------------------------------------------------------------------\u001b[0m",
      "\u001b[0;31mKeyboardInterrupt\u001b[0m                         Traceback (most recent call last)",
      "\u001b[0;32m<ipython-input-100-5de3842df320>\u001b[0m in \u001b[0;36m<module>\u001b[0;34m()\u001b[0m\n\u001b[1;32m      3\u001b[0m     \u001b[0;31m#print(current,lobd,upbd)\u001b[0m\u001b[0;34m\u001b[0m\u001b[0;34m\u001b[0m\u001b[0m\n\u001b[1;32m      4\u001b[0m     \u001b[0;31m# 1.2 sub a list\u001b[0m\u001b[0;34m\u001b[0m\u001b[0;34m\u001b[0m\u001b[0m\n\u001b[0;32m----> 5\u001b[0;31m     \u001b[0msub_value\u001b[0m \u001b[0;34m=\u001b[0m \u001b[0muni_value\u001b[0m\u001b[0;34m[\u001b[0m\u001b[0mi\u001b[0m\u001b[0;34m:\u001b[0m\u001b[0;34m]\u001b[0m\u001b[0;34m\u001b[0m\u001b[0m\n\u001b[0m\u001b[1;32m      6\u001b[0m     \u001b[0;31m# 2. get lowerbound index in list\u001b[0m\u001b[0;34m\u001b[0m\u001b[0;34m\u001b[0m\u001b[0m\n\u001b[1;32m      7\u001b[0m     \u001b[0mlobd_idx\u001b[0m \u001b[0;34m=\u001b[0m \u001b[0mbinarySearch\u001b[0m\u001b[0;34m(\u001b[0m\u001b[0msub_value\u001b[0m\u001b[0;34m,\u001b[0m\u001b[0;34m-\u001b[0m\u001b[0;36m10000\u001b[0m \u001b[0;34m-\u001b[0m \u001b[0mnum\u001b[0m\u001b[0;34m,\u001b[0m\u001b[0mbound\u001b[0m\u001b[0;34m=\u001b[0m\u001b[0;34m\"lower\"\u001b[0m\u001b[0;34m)\u001b[0m\u001b[0;34m\u001b[0m\u001b[0m\n",
      "\u001b[0;31mKeyboardInterrupt\u001b[0m: "
     ]
    }
   ],
   "source": [
    "targets = set()\n",
    "for num in uni_value:    \n",
    "    #print(current,lobd,upbd)\n",
    "    # 1.2 sub a list\n",
    "    sub_value = uni_value[i:]\n",
    "    # 2. get lowerbound index in list\n",
    "    lobd_idx = binarySearch(sub_value,-10000 - num,bound=\"lower\")\n",
    "    # 3. get upperbound index in list\n",
    "    upbd_idx = binarySearch(sub_value,10000 - num)+1  \n",
    "    # 4. temp_list\n",
    "    for num_y in uni_value[lobd_idx:upbd_idx]:\n",
    "        if num_y!=num :\n",
    "            targets.add(num + num_y)\n",
    "print(len(targets))"
   ]
  },
  {
   "cell_type": "markdown",
   "metadata": {},
   "source": [
    "## Faster solution \n",
    "### using bisect package\n",
    "https://docs.python.org/3/library/bisect.html"
   ]
  },
  {
   "cell_type": "code",
   "execution_count": 101,
   "metadata": {},
   "outputs": [
    {
     "name": "stdout",
     "output_type": "stream",
     "text": [
      "427\n"
     ]
    }
   ],
   "source": [
    "from bisect import bisect_left, bisect_right\n",
    "\n",
    "\n",
    "class TwoSumFinder:\n",
    "    def __init__(self, input_file=None):\n",
    "        self._array = []\n",
    "        numbers = set()\n",
    "        self._target_values = 0\n",
    "        if input_file is None:\n",
    "            for number in input().split():\n",
    "                numbers.add(int(number))\n",
    "        else:\n",
    "            with open(input_file) as file:\n",
    "                for number in file.read().splitlines():\n",
    "                    numbers.add(int(number))\n",
    "        self._array = sorted(numbers)\n",
    "\n",
    "    def compute_values(self):\n",
    "        target_values = set()\n",
    "        for num in self._array:\n",
    "            low = bisect_left(self._array, -10000 - num)\n",
    "            high = bisect_right(self._array, 10000 - num)\n",
    "            for pair_num in self._array[low:high]:\n",
    "                if pair_num != num:\n",
    "                    target_values.add(num + pair_num)\n",
    "        return len(target_values)\n",
    "\n",
    "if __name__ == \"__main__\":\n",
    "    two_sum_finder = TwoSumFinder(\"2sum.txt\")\n",
    "    target_values = two_sum_finder.compute_values()\n",
    "    print(target_values)"
   ]
  },
  {
   "cell_type": "code",
   "execution_count": null,
   "metadata": {},
   "outputs": [],
   "source": []
  }
 ],
 "metadata": {
  "kernelspec": {
   "display_name": "Python 3",
   "language": "python",
   "name": "python3"
  },
  "language_info": {
   "codemirror_mode": {
    "name": "ipython",
    "version": 3
   },
   "file_extension": ".py",
   "mimetype": "text/x-python",
   "name": "python",
   "nbconvert_exporter": "python",
   "pygments_lexer": "ipython3",
   "version": "3.6.5"
  }
 },
 "nbformat": 4,
 "nbformat_minor": 2
}
