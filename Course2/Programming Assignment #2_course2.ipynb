{
 "cells": [
  {
   "cell_type": "markdown",
   "metadata": {},
   "source": [
    "##  Dijkstra's shortest-path algorithm"
   ]
  },
  {
   "cell_type": "code",
   "execution_count": 235,
   "metadata": {},
   "outputs": [],
   "source": [
    "G = {}\n",
    "fhand = open(\"dijkstraData.txt\")\n",
    "for line in fhand:\n",
    "    nodes = line.strip().split(\"\\t\")\n",
    "    G[int(nodes[0])] = [[int(i) for i in i.split(\",\")] for i in nodes[1:]]    "
   ]
  },
  {
   "cell_type": "markdown",
   "metadata": {},
   "source": [
    "# naive implement\n",
    "Get the key corresponding to the minimum value within a dictionary\n",
    "https://stackoverflow.com/questions/3282823/get-the-key-corresponding-to-the-minimum-value-within-a-dictionary"
   ]
  },
  {
   "cell_type": "code",
   "execution_count": 236,
   "metadata": {},
   "outputs": [],
   "source": [
    "visited = [1]\n",
    "computed_dist = {1:0}"
   ]
  },
  {
   "cell_type": "code",
   "execution_count": 240,
   "metadata": {},
   "outputs": [],
   "source": [
    "while len(visited)<200:\n",
    "    min_dist_node = {}\n",
    "    #print(visited,computed_dist)\n",
    "    for node in visited: \n",
    "        # 1. for each visited node get all the linked node\n",
    "        node_dist = {i:computed_dist[node]+j for i,j in G[node] if i not in visited}\n",
    "        # 2. get the minimum dist and linked node \n",
    "        try:\n",
    "            linked_node,min_dist = min(node_dist.items(), key=lambda x: x[1]) #the minimum value is at the 11th location,so return the key\n",
    "            # 3. save it to the dict\n",
    "            if linked_node in min_dist_node:\n",
    "                min_dist_node[linked_node]= min(min_dist,min_dist_node[linked_node])\n",
    "            else:\n",
    "                min_dist_node[linked_node]= min_dist\n",
    "        except:\n",
    "            continue\n",
    "    next_node,min_dist = min(min_dist_node.items(), key=lambda x: x[1])\n",
    "    visited.append(next_node)\n",
    "    computed_dist[next_node] = min_dist"
   ]
  },
  {
   "cell_type": "code",
   "execution_count": 242,
   "metadata": {},
   "outputs": [
    {
     "name": "stdout",
     "output_type": "stream",
     "text": [
      "2599,2610,2947,2052,2367,2399,2029,2442,2505,3068\n"
     ]
    }
   ],
   "source": [
    "rslt = []\n",
    "for i in [7,37,59,82,99,115,133,165,188,197]:\n",
    "    rslt.append(str(computed_dist[i]))\n",
    "print(\",\".join(rslt))"
   ]
  },
  {
   "cell_type": "code",
   "execution_count": null,
   "metadata": {},
   "outputs": [],
   "source": []
  }
 ],
 "metadata": {
  "kernelspec": {
   "display_name": "Python 3",
   "language": "python",
   "name": "python3"
  },
  "language_info": {
   "codemirror_mode": {
    "name": "ipython",
    "version": 3
   },
   "file_extension": ".py",
   "mimetype": "text/x-python",
   "name": "python",
   "nbconvert_exporter": "python",
   "pygments_lexer": "ipython3",
   "version": "3.6.5"
  }
 },
 "nbformat": 4,
 "nbformat_minor": 2
}
