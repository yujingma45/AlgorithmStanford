{
 "cells": [
  {
   "cell_type": "markdown",
   "metadata": {},
   "source": [
    "##  Median Maintenance"
   ]
  },
  {
   "cell_type": "markdown",
   "metadata": {},
   "source": [
    "The goal of this problem is to implement the \"Median Maintenance\" algorithm (covered in the Week 3 lecture on heap applications). The text file contains a list of the integers from 1 to 10000 in unsorted order; you should treat this as a stream of numbers, arriving one by one. Letting x_ix \n",
    "i\n",
    "​\t  denote the iith number of the file, the kkth median m_km \n",
    "k\n",
    "​\t  is defined as the median of the numbers x_1,\\ldots,x_kx \n",
    "1\n",
    "​\t ,…,x \n",
    "k\n",
    "​\t . (So, if kk is odd, then m_km \n",
    "k\n",
    "​\t  is ((k+1)/2)((k+1)/2)th smallest number among x_1,\\ldots,x_kx \n",
    "1\n",
    "​\t ,…,x \n",
    "k\n",
    "​\t ; if kk is even, then m_km \n",
    "k\n",
    "​\t  is the (k/2)(k/2)th smallest number among x_1,\\ldots,x_kx \n",
    "1\n",
    "​\t ,…,x \n",
    "k\n",
    "​\t .)"
   ]
  },
  {
   "cell_type": "code",
   "execution_count": 48,
   "metadata": {},
   "outputs": [],
   "source": [
    "import heapq   "
   ]
  },
  {
   "cell_type": "code",
   "execution_count": 49,
   "metadata": {},
   "outputs": [],
   "source": [
    "#test_file = open(\"median.txt\",'r')\n",
    "# nums = [int(i.strip()) for i in test_file.readlines()]"
   ]
  },
  {
   "cell_type": "code",
   "execution_count": 50,
   "metadata": {},
   "outputs": [
    {
     "name": "stdout",
     "output_type": "stream",
     "text": [
      "result 1213\n"
     ]
    }
   ],
   "source": [
    "heapLo,heapHi=[],[]\n",
    "heapq.heapify(heapLo)\n",
    "heapq.heapify(heapHi)\n",
    "median = []\n",
    "\n",
    "test_file = open(\"median.txt\",'r')\n",
    "# this way can extract num one by one\n",
    "with test_file as f:\n",
    "    for integers in f.readlines():\n",
    "        num = int(integers.strip()) \n",
    "        \n",
    "        if not heapLo: # push first value to heapLo\n",
    "            heapq.heappush(heapLo,num*-1)\n",
    "            # since heappush can only: Push item on the heap, then pop and return the smallest item from the heap.\n",
    "            # we gice -1 so the largest be come the smallest\n",
    "        else:\n",
    "            # need to keep track on length of low and high heap, so we can always get the value close to median\n",
    "            lenLow = len(heapLo)\n",
    "            lenHi = len(heapHi)\n",
    "            LoMax = heapq.heappop(heapLo)*-1\n",
    "\n",
    "            median.append(LoMax)\n",
    "            # since it said if n is even, got the n/2 case as median\n",
    "            if num<=LoMax:\n",
    "                heapq.heappush(heapLo,num*-1)\n",
    "                if lenLow<=lenHi:\n",
    "                    heapq.heappush(heapLo,LoMax*-1)\n",
    "                    # push the median back\n",
    "                else:\n",
    "                    heapq.heappush(heapHi,LoMax)\n",
    "            else:\n",
    "                if lenHi<lenLow:\n",
    "                    # if the length is unbalanced then the new num definitaly should be in high\n",
    "                    heapq.heappush(heapHi,num)\n",
    "                    heapq.heappush(heapLo,LoMax*-1)\n",
    "                else:\n",
    "                    HiMin = heapq.heappop(heapHi)\n",
    "                    heapq.heappush(heapLo,LoMax * -1)\n",
    "                # else it will need to be govern by the min value in High\n",
    "                    if HiMin<num:\n",
    "                        heapq.heappush(heapHi,num)\n",
    "                        # push the rest to heapLo to maintain the balanced size\n",
    "                        heapq.heappush(heapLo,HiMin*-1)\n",
    "\n",
    "                    else:\n",
    "                        heapq.heappush(heapLo,num*-1)\n",
    "                        heapq.heappush(heapHi,HiMin)\n",
    "\n",
    "# push last median\n",
    "median.append(heapq.heappop(heapLo) * -1)\n",
    "\n",
    "#print('medians', median)\n",
    "print('result', sum(median)%10000)\n",
    "                \n",
    "        "
   ]
  },
  {
   "cell_type": "code",
   "execution_count": null,
   "metadata": {},
   "outputs": [],
   "source": []
  }
 ],
 "metadata": {
  "kernelspec": {
   "display_name": "Python 3",
   "language": "python",
   "name": "python3"
  },
  "language_info": {
   "codemirror_mode": {
    "name": "ipython",
    "version": 3
   },
   "file_extension": ".py",
   "mimetype": "text/x-python",
   "name": "python",
   "nbconvert_exporter": "python",
   "pygments_lexer": "ipython3",
   "version": "3.6.5"
  }
 },
 "nbformat": 4,
 "nbformat_minor": 2
}
