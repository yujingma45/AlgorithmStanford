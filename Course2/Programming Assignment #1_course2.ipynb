{
 "cells": [
  {
   "cell_type": "markdown",
   "metadata": {},
   "source": [
    "## Computing strongly connected components (SCCs)\n",
    "This is the most challenging programming assignment of the course. Because of the size of the graph you may have to manage memory carefully. \n",
    "\n",
    "The best way to do it in python:\n",
    "1. using **nested list** as index: list of values as adjacent lists. instead of dicts\n",
    "2. instead of using dict and finish time then transfer, we use vector called order, to remember the visit order, index 1 node will be the one with finishing time =1. and so on\n",
    "3. some set up before running\n",
    "- **in terminal \n",
    "- ulimit -s 32767\n",
    "- jupyter notebook --NotebookApp.iopub_data_rate_limit=1.0e10\n",
    "- **in python \n",
    "import sys, threading\n",
    "sys.setrecursionlimit(800000)\n",
    "threading.stack_size(67108864)\n",
    "\n",
    "def main():\n",
    "  '''\n",
    "  YOUR CODE HERE\n",
    "  '''\n",
    "thread = threading.Thread(target=main)\n",
    "thread.start()\n"
   ]
  },
  {
   "cell_type": "code",
   "execution_count": 61,
   "metadata": {},
   "outputs": [],
   "source": [
    "n = 875714+1\n",
    "n=10"
   ]
  },
  {
   "cell_type": "code",
   "execution_count": 62,
   "metadata": {},
   "outputs": [],
   "source": [
    "G_rev = [[] for i in range(n)] # using nested list instead of dicts\n",
    "G = [[] for i in range(n)]\n",
    "explored= [0]*n\n",
    "order = [] # use as finish time, but we record order, so index 1 means the 1st finished\n",
    "leader_lst=[0]*n\n",
    "f_t = 0"
   ]
  },
  {
   "cell_type": "code",
   "execution_count": 63,
   "metadata": {},
   "outputs": [],
   "source": [
    "file = open('test1.txt',\"r\") \n",
    "data = file.readlines()\n",
    "\n",
    "for line in data:\n",
    "    vs = [int(i) for i in line.split()]\n",
    "    if vs[0]!= vs[1]:\n",
    "        G_rev[vs[1]]+=[vs[0]]\n",
    "        G[vs[0]]+=[vs[1]]"
   ]
  },
  {
   "cell_type": "code",
   "execution_count": 64,
   "metadata": {},
   "outputs": [],
   "source": [
    "# loop1:\n",
    "DFS_loop(G_rev,reversed(range(1,n)))"
   ]
  },
  {
   "cell_type": "code",
   "execution_count": 65,
   "metadata": {},
   "outputs": [],
   "source": [
    "# loop2:\n",
    "explored= [0]*n\n",
    "leader_lst=[0]*n\n",
    "DFS_loop(G,order[::-1])"
   ]
  },
  {
   "cell_type": "code",
   "execution_count": 66,
   "metadata": {},
   "outputs": [
    {
     "data": {
      "text/plain": [
       "Counter({0: 1, 7: 3, 8: 3, 9: 3})"
      ]
     },
     "execution_count": 66,
     "metadata": {},
     "output_type": "execute_result"
    }
   ],
   "source": [
    "Counter(leader_lst)"
   ]
  },
  {
   "cell_type": "markdown",
   "metadata": {},
   "source": [
    "## formal running"
   ]
  },
  {
   "cell_type": "code",
   "execution_count": 2,
   "metadata": {},
   "outputs": [],
   "source": [
    "import pandas as pd\n",
    "import random\n",
    "import time\n",
    "from collections import Counter"
   ]
  },
  {
   "cell_type": "code",
   "execution_count": 3,
   "metadata": {},
   "outputs": [],
   "source": [
    "def DFS(graph,node,leader):\n",
    "    # 1. mark node as explored\n",
    "    #print(node)\n",
    "    explored[node] = 1\n",
    "    # 2. do explore for each node in outgoing value:\n",
    "    while graph[node]:\n",
    "        node_next = graph[node].pop()\n",
    "        if explored[node_next]!=1:\n",
    "            DFS(graph,node_next,leader)\n",
    "    global order,leader_lst\n",
    "    order.append(node)\n",
    "    leader_lst[node] = leader"
   ]
  },
  {
   "cell_type": "code",
   "execution_count": 4,
   "metadata": {},
   "outputs": [],
   "source": [
    "def DFS_loop(graph,lst):\n",
    "    global explored\n",
    "    for i in lst:\n",
    "        if explored[i]!=1:\n",
    "            leader_node = i \n",
    "            DFS(graph,i,leader_node)"
   ]
  },
  {
   "cell_type": "code",
   "execution_count": 5,
   "metadata": {},
   "outputs": [
    {
     "name": "stdout",
     "output_type": "stream",
     "text": [
      "Start loop1\n",
      "Start loop2\n",
      "[(67968, 434821), (413831, 968), (442457, 459), (33604, 313), (677096, 211)]\n"
     ]
    }
   ],
   "source": [
    "import sys, threading\n",
    "sys.setrecursionlimit(800000)\n",
    "threading.stack_size(67108864)\n",
    "def main():\n",
    "    n = 875714+1\n",
    "    G_rev = [[] for i in range(n)] # using nested list instead of dicts\n",
    "    G = [[] for i in range(n)]\n",
    "    global explored,order,leader_lst\n",
    "    explored= [0]*n\n",
    "    order = [] # use as finish time, but we record order, so index 1 means the 1st finished\n",
    "    leader_lst=[0]*n\n",
    "    \n",
    "    file = open('SCC.txt',\"r\") \n",
    "    data = file.readlines()\n",
    "    \n",
    "    for line in data:\n",
    "        vs = [int(i) for i in line.split()]\n",
    "        if vs[0]!= vs[1]:\n",
    "            G_rev[vs[1]]+=[vs[0]]\n",
    "            G[vs[0]]+=[vs[1]]\n",
    "            \n",
    "    print(\"Start loop1\")\n",
    "    # loop1:\n",
    "    DFS_loop(G_rev,reversed(range(1,n)))\n",
    "    print(\"Start loop2\")\n",
    "    # loop2:\n",
    "    explored= [0]*n\n",
    "    leader_lst=[0]*n\n",
    "    DFS_loop(G,order[::-1])\n",
    "    print(Counter(leader_lst).most_common(5))\n",
    "thread = threading.Thread(target=main)\n",
    "thread.start()\n"
   ]
  },
  {
   "cell_type": "markdown",
   "metadata": {},
   "source": [
    "### The five largest will be 434821,968,459,313,211 [Link =https://www.coursera.org/learn/algorithms-graphs-data-structures/discussions/weeks/1/threads/JiHDKJnVEeetAQoC-amJYg/replies/sZAZXrVjEeeEagonu2xPWg]"
   ]
  }
 ],
 "metadata": {
  "kernelspec": {
   "display_name": "Python 3",
   "language": "python",
   "name": "python3"
  },
  "language_info": {
   "codemirror_mode": {
    "name": "ipython",
    "version": 3
   },
   "file_extension": ".py",
   "mimetype": "text/x-python",
   "name": "python",
   "nbconvert_exporter": "python",
   "pygments_lexer": "ipython3",
   "version": "3.6.5"
  }
 },
 "nbformat": 4,
 "nbformat_minor": 2
}
