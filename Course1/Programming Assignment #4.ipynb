{
 "cells": [
  {
   "cell_type": "code",
   "execution_count": 1,
   "metadata": {},
   "outputs": [],
   "source": [
    "# Randomized contraction algorithm\n"
   ]
  },
  {
   "cell_type": "code",
   "execution_count": 14,
   "metadata": {},
   "outputs": [],
   "source": [
    "import pandas as pd\n",
    "import random\n",
    "import time"
   ]
  },
  {
   "cell_type": "code",
   "execution_count": 15,
   "metadata": {},
   "outputs": [],
   "source": [
    "fhand = open(\"kargerMinCut.txt\")\n",
    "org_graph={}\n",
    "for line in fhand:\n",
    "    _list = line.split('\\t')\n",
    "    org_graph[_list[0]]=_list[1:-1]"
   ]
  },
  {
   "cell_type": "code",
   "execution_count": 16,
   "metadata": {},
   "outputs": [],
   "source": [
    "def one_rca(graph):\n",
    "    while len(graph.keys())>2:\n",
    "        # 1. random select key and value - a pair of vertex\n",
    "        random.seed(time.time())\n",
    "        v1 = random.choice(list(graph.keys()))\n",
    "        v2 = random.choice(list(graph[v1]))\n",
    "        #2. change all v2 to v1 in each value\n",
    "        for v_linkv2 in graph[v2]:\n",
    "            graph[v_linkv2] = [i for i in graph[v_linkv2] if i !=v2]+[v1]\n",
    "        # 3. combine v2 value to v1 and elimintat v1,v2\n",
    "        graph[v1] = [ i for i in graph[v2]+graph[v1] if i not in [v1,v2]]\n",
    "        # 4. delete v2 \n",
    "        del graph[v2]\n",
    "    return len(list(graph.values())[0])"
   ]
  },
  {
   "cell_type": "code",
   "execution_count": 17,
   "metadata": {},
   "outputs": [],
   "source": [
    "def rca(graph,iter_times):\n",
    "    min_cuts = []\n",
    "    for i in range(iter_times):        \n",
    "        sub_graph = graph.copy()\n",
    "        min_cuts.append(one_rca(sub_graph))\n",
    "        if not i % 100: print(\"iteration No.{}, current min cut is {}\".format(i, min(min_cuts)))\n",
    "    return min(min_cuts)"
   ]
  },
  {
   "cell_type": "code",
   "execution_count": 18,
   "metadata": {},
   "outputs": [],
   "source": [
    "# need at least n**2*lnn\n",
    "import math\n",
    "n = len(list(org_graph.keys()))\n",
    "times = round(n**2*math.log(n))\n"
   ]
  },
  {
   "cell_type": "code",
   "execution_count": 19,
   "metadata": {},
   "outputs": [
    {
     "data": {
      "text/plain": [
       "211933"
      ]
     },
     "execution_count": 19,
     "metadata": {},
     "output_type": "execute_result"
    }
   ],
   "source": [
    "times"
   ]
  },
  {
   "cell_type": "code",
   "execution_count": 21,
   "metadata": {},
   "outputs": [
    {
     "name": "stdout",
     "output_type": "stream",
     "text": [
      "iteration No.0, current min cut is 22\n",
      "iteration No.100, current min cut is 17\n",
      "iteration No.200, current min cut is 17\n",
      "iteration No.300, current min cut is 17\n",
      "iteration No.400, current min cut is 17\n"
     ]
    }
   ],
   "source": [
    "graph = org_graph.copy()\n",
    "min_cut = rca(graph,500)"
   ]
  },
  {
   "cell_type": "code",
   "execution_count": 23,
   "metadata": {},
   "outputs": [
    {
     "data": {
      "text/plain": [
       "17"
      ]
     },
     "execution_count": 23,
     "metadata": {},
     "output_type": "execute_result"
    }
   ],
   "source": [
    "min_cut"
   ]
  },
  {
   "cell_type": "code",
   "execution_count": null,
   "metadata": {},
   "outputs": [],
   "source": []
  }
 ],
 "metadata": {
  "kernelspec": {
   "display_name": "Python 3",
   "language": "python",
   "name": "python3"
  },
  "language_info": {
   "codemirror_mode": {
    "name": "ipython",
    "version": 3
   },
   "file_extension": ".py",
   "mimetype": "text/x-python",
   "name": "python",
   "nbconvert_exporter": "python",
   "pygments_lexer": "ipython3",
   "version": "3.6.5"
  }
 },
 "nbformat": 4,
 "nbformat_minor": 2
}
