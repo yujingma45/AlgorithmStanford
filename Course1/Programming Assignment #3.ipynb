{
 "cells": [
  {
   "cell_type": "code",
   "execution_count": 1,
   "metadata": {},
   "outputs": [],
   "source": [
    "# QuickSort\n",
    "# 1. Don't need to return array everytime, since it's inplace change -> array itself change everytime\n",
    "# 2. left and right are important index\n",
    "# 3. return the pivot location to split left and right\n",
    "# 4. left starts from beginning to pivot_index-1; right starts from pivot_index+1 to end"
   ]
  },
  {
   "cell_type": "code",
   "execution_count": 2,
   "metadata": {},
   "outputs": [],
   "source": [
    "import statistics as sta"
   ]
  },
  {
   "cell_type": "code",
   "execution_count": 3,
   "metadata": {},
   "outputs": [],
   "source": [
    "# question 1:\n",
    "# Using the 1st element of the given array as the pivot element.\n",
    "def q1_1stpivor(array,left,right):\n",
    "    return left"
   ]
  },
  {
   "cell_type": "code",
   "execution_count": 4,
   "metadata": {},
   "outputs": [],
   "source": [
    "# question 2:\n",
    "# Using the final element of the given array as the pivot element.\n",
    "def q2_lastpivot(array,left,right):\n",
    "    return right-1"
   ]
  },
  {
   "cell_type": "code",
   "execution_count": 29,
   "metadata": {},
   "outputs": [],
   "source": [
    "# question 3:\n",
    "# Consider the first, middle, and final elements of the given array. Use kth element as 2k-array median\n",
    "# Identify which of these three elements is the median , and use this as your pivot.\n",
    "def q3_medof3(array,left,right):\n",
    "    med_point =(right-left-1)//2+left\n",
    "    return array.index(sta.median([array[left],array[med_point],array[right-1]]))"
   ]
  },
  {
   "cell_type": "code",
   "execution_count": 31,
   "metadata": {},
   "outputs": [],
   "source": [
    "def partition(array,left,right):\n",
    "    pivot = array[left]\n",
    "    i = left+1\n",
    "    for j in range(left+1,right):\n",
    "        if pivot>array[j]:\n",
    "            array[j],array[i] = array[i],array[j]\n",
    "            i+=1\n",
    "    array[left],array[i-1] = array[i-1],array[left]\n",
    "    return i-1"
   ]
  },
  {
   "cell_type": "code",
   "execution_count": 32,
   "metadata": {},
   "outputs": [],
   "source": [
    "def quicksort(array,left,right):\n",
    "    global n_comparison \n",
    "    if right>left:\n",
    "        n_comparison+= right-left-1\n",
    "        pivot_index = q3_medof3(array,left,right)\n",
    "        # swap pivot to the first place\n",
    "        array[pivot_index],array[left] = array[left],array[pivot_index]\n",
    "        # partition array around pivot   \n",
    "        index = partition(array,left,right)\n",
    "        quicksort(array,left,index)\n",
    "        quicksort(array,index+1,right)\n",
    "    return n_comparison"
   ]
  },
  {
   "cell_type": "markdown",
   "metadata": {},
   "source": [
    "The test cases above don't appear to be working. Use these instead.\n",
    "\n",
    "first n elements of QuickSort.txt: first last median\n",
    "\n",
    "10: 25 31 21\n",
    "\n",
    "100: 620 573 502\n",
    "\n",
    "1000: 11175 10957 9735"
   ]
  },
  {
   "cell_type": "code",
   "execution_count": 33,
   "metadata": {},
   "outputs": [],
   "source": [
    "fhand = open(\"Lecture Notes on QuickSort Analysis.txt\")\n",
    "lst=[]\n",
    "n_comparison = 0 \n",
    "for line in fhand:\n",
    "    lst.append(int(line))\n"
   ]
  },
  {
   "cell_type": "code",
   "execution_count": 34,
   "metadata": {},
   "outputs": [
    {
     "data": {
      "text/plain": [
       "138382"
      ]
     },
     "execution_count": 34,
     "metadata": {},
     "output_type": "execute_result"
    }
   ],
   "source": [
    "quicksort(lst,0,len(lst))"
   ]
  },
  {
   "cell_type": "code",
   "execution_count": 28,
   "metadata": {},
   "outputs": [
    {
     "data": {
      "text/plain": [
       "(162085, 164123, 131226)"
      ]
     },
     "execution_count": 28,
     "metadata": {},
     "output_type": "execute_result"
    }
   ],
   "source": [
    "162085,164123,138382"
   ]
  },
  {
   "cell_type": "code",
   "execution_count": null,
   "metadata": {},
   "outputs": [],
   "source": []
  }
 ],
 "metadata": {
  "kernelspec": {
   "display_name": "Python 3",
   "language": "python",
   "name": "python3"
  },
  "language_info": {
   "codemirror_mode": {
    "name": "ipython",
    "version": 3
   },
   "file_extension": ".py",
   "mimetype": "text/x-python",
   "name": "python",
   "nbconvert_exporter": "python",
   "pygments_lexer": "ipython3",
   "version": "3.6.5"
  }
 },
 "nbformat": 4,
 "nbformat_minor": 2
}
