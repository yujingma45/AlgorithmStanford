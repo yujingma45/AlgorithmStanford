{
 "cells": [
  {
   "cell_type": "code",
   "execution_count": 192,
   "metadata": {},
   "outputs": [],
   "source": [
    "# Coounting Inversions\n",
    "# 1. In countsplitinv() should return sorted array for the next step \n",
    "# 2. In countsplitinv() we should append the rest of left or right array after comparision\n",
    "# 3. The base case should be n =1, since left and right will combine to array n =2"
   ]
  },
  {
   "cell_type": "code",
   "execution_count": 275,
   "metadata": {},
   "outputs": [],
   "source": [
    "def CountSplitInv(left,right):\n",
    "    sorted_array = []\n",
    "    split_inv = 0\n",
    "    i = 0\n",
    "    j = 0\n",
    "    while i< len(left) and j<len(right):\n",
    "            if left[i]<right[j]:\n",
    "                sorted_array.append(left[i])\n",
    "                i+=1\n",
    "            elif left[i]>right[j]:\n",
    "                sorted_array.append(right[j])\n",
    "                split_inv+=len(left)-i\n",
    "                j+=1\n",
    "    if left:\n",
    "        sorted_array.extend(left[i:])\n",
    "    if right:\n",
    "        sorted_array.extend(right[j:])\n",
    "    return split_inv,sorted_array"
   ]
  },
  {
   "cell_type": "code",
   "execution_count": 276,
   "metadata": {},
   "outputs": [],
   "source": [
    "def CountInversion(array):\n",
    "    n = len(array)\n",
    "    if n ==1: \n",
    "        return 0,array\n",
    "    elif n//2>0:\n",
    "        left = array[:n//2]\n",
    "        right = array[n//2:]\n",
    "        (left_inv,sorted_left) = CountInversion(left)\n",
    "        (right_inv,sorted_right) = CountInversion(right)\n",
    "        (split_inv,sorted_array) = CountSplitInv(sorted_left,sorted_right)\n",
    "        return left_inv+right_inv+split_inv,sorted_array"
   ]
  },
  {
   "cell_type": "code",
   "execution_count": 316,
   "metadata": {},
   "outputs": [],
   "source": [
    "## test"
   ]
  },
  {
   "cell_type": "code",
   "execution_count": 310,
   "metadata": {},
   "outputs": [],
   "source": [
    "fhand = open(\"testcase.txt\")"
   ]
  },
  {
   "cell_type": "code",
   "execution_count": 311,
   "metadata": {},
   "outputs": [],
   "source": [
    "lst=[]\n",
    "for i in fhand:\n",
    "    lst.append(int(i.replace('\\n',\"\")))"
   ]
  },
  {
   "cell_type": "code",
   "execution_count": 314,
   "metadata": {},
   "outputs": [],
   "source": [
    "numInv,_sorted_array=CountInversion(lst)"
   ]
  },
  {
   "cell_type": "code",
   "execution_count": 315,
   "metadata": {},
   "outputs": [
    {
     "data": {
      "text/plain": [
       "2407905288"
      ]
     },
     "execution_count": 315,
     "metadata": {},
     "output_type": "execute_result"
    }
   ],
   "source": [
    "numInv"
   ]
  }
 ],
 "metadata": {
  "kernelspec": {
   "display_name": "Python 3",
   "language": "python",
   "name": "python3"
  },
  "language_info": {
   "codemirror_mode": {
    "name": "ipython",
    "version": 3
   },
   "file_extension": ".py",
   "mimetype": "text/x-python",
   "name": "python",
   "nbconvert_exporter": "python",
   "pygments_lexer": "ipython3",
   "version": "3.6.5"
  }
 },
 "nbformat": 4,
 "nbformat_minor": 2
}
