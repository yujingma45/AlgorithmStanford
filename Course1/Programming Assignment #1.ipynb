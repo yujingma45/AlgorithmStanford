{
 "cells": [
  {
   "cell_type": "code",
   "execution_count": 1,
   "metadata": {},
   "outputs": [],
   "source": [
    "# Integer multiplication algorithms\n",
    "# the hardest part is sometimes the x,y is not same length and are odds-digits. \n",
    "# so we need to take the maximum and pad with 0 at the top of the shorter number "
   ]
  },
  {
   "cell_type": "code",
   "execution_count": 19,
   "metadata": {},
   "outputs": [],
   "source": [
    "import math"
   ]
  },
  {
   "cell_type": "code",
   "execution_count": 231,
   "metadata": {},
   "outputs": [],
   "source": [
    "def rec_multi(x,y):   \n",
    "    # take the maximum of the length and round up to even number\n",
    "    n = max(int(len(str(x))),int(len(str(y))))\n",
    "    if n//2>=1:\n",
    "        n = round_up_to_even(n)\n",
    "        # padding with 0\n",
    "        x = str(x).rjust(n,\"0\")\n",
    "        y = str(y).rjust(n,\"0\")\n",
    "        # do the calculation\n",
    "        a = int(x[0:n//2])\n",
    "        b = int(x[n//2:])\n",
    "        c = int(y[0:n//2])\n",
    "        d = int(y[n//2:])\n",
    "        s1 = kar_multi(a,c)\n",
    "        s2 = kar_multi(d,b)\n",
    "        s3 = kar_multi(a,d)\n",
    "        s4 = kar_multi(b,c)\n",
    "        return 10**n*s1 + 10**(n//2)*(s3+s4)+s2\n",
    "    else:\n",
    "         return int(x)*int(y)"
   ]
  },
  {
   "cell_type": "code",
   "execution_count": 248,
   "metadata": {},
   "outputs": [],
   "source": [
    "def kar_multi(x,y):   \n",
    "    # take the maximum of the length and round up to even number\n",
    "    n = max(int(len(str(x))),int(len(str(y))))\n",
    "    if n//2>=1:\n",
    "        n = round_up_to_even(n)\n",
    "        # padding with 0\n",
    "        x = str(x).rjust(n,\"0\")\n",
    "        y = str(y).rjust(n,\"0\")\n",
    "        a = int(x[0:n//2])\n",
    "        b = int(x[n//2:])\n",
    "        c = int(y[0:n//2])\n",
    "        d = int(y[n//2:])\n",
    "        s1 = kar_multi(a,c)\n",
    "        s2 = kar_multi(d,b)\n",
    "        s3 = kar_multi(a+b,c+d)\n",
    "        return 10**n*s1 + 10**(n//2)*(s3-s1-s2)+s2\n",
    "    else:\n",
    "         return int(x)*int(y)"
   ]
  },
  {
   "cell_type": "code",
   "execution_count": 232,
   "metadata": {},
   "outputs": [],
   "source": [
    "a = 3141592653589793238462643383279502884197169399375105820974944592\n",
    "b = 2718281828459045235360287471352662497757247093699959574966967627"
   ]
  },
  {
   "cell_type": "code",
   "execution_count": 249,
   "metadata": {
    "scrolled": true
   },
   "outputs": [],
   "source": [
    "assert kar_multi(a,b) == a*b"
   ]
  }
 ],
 "metadata": {
  "kernelspec": {
   "display_name": "Python 3",
   "language": "python",
   "name": "python3"
  },
  "language_info": {
   "codemirror_mode": {
    "name": "ipython",
    "version": 3
   },
   "file_extension": ".py",
   "mimetype": "text/x-python",
   "name": "python",
   "nbconvert_exporter": "python",
   "pygments_lexer": "ipython3",
   "version": "3.6.5"
  }
 },
 "nbformat": 4,
 "nbformat_minor": 2
}
